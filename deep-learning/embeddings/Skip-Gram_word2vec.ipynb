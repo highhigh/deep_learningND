{
 "cells": [
  {
   "cell_type": "markdown",
   "metadata": {},
   "source": [
    "# Skip-gram word2vec\n",
    "\n",
    "In this notebook, I'll lead you through using TensorFlow to implement the word2vec algorithm using the skip-gram architecture. By implementing this, you'll learn about embedding words for use in natural language processing. This will come in handy when dealing with things like machine translation.\n",
    "\n",
    "## Readings\n",
    "\n",
    "Here are the resources I used to build this notebook. I suggest reading these either beforehand or while you're working on this material.\n",
    "\n",
    "* A really good [conceptual overview](http://mccormickml.com/2016/04/19/word2vec-tutorial-the-skip-gram-model/) of word2vec from Chris McCormick \n",
    "* [First word2vec paper](https://arxiv.org/pdf/1301.3781.pdf) from Mikolov et al.\n",
    "* [NIPS paper](http://papers.nips.cc/paper/5021-distributed-representations-of-words-and-phrases-and-their-compositionality.pdf) with improvements for word2vec also from Mikolov et al.\n",
    "* An [implementation of word2vec](http://www.thushv.com/natural_language_processing/word2vec-part-1-nlp-with-deep-learning-with-tensorflow-skip-gram/) from Thushan Ganegedara\n",
    "* TensorFlow [word2vec tutorial](https://www.tensorflow.org/tutorials/word2vec)\n",
    "\n",
    "## Word embeddings\n",
    "\n",
    "When you're dealing with words in text, you end up with tens of thousands of classes to predict, one for each word. Trying to one-hot encode these words is massively inefficient, you'll have one element set to 1 and the other 50,000 set to 0. The matrix multiplication going into the first hidden layer will have almost all of the resulting values be zero. This a huge waste of computation. \n",
    "\n",
    "![one-hot encodings](assets/one_hot_encoding.png)\n",
    "\n",
    "To solve this problem and greatly increase the efficiency of our networks, we use what are called embeddings. Embeddings are just a fully connected layer like you've seen before. We call this layer the embedding layer and the weights are embedding weights. We skip the multiplication into the embedding layer by instead directly grabbing the hidden layer values from the weight matrix. We can do this because the multiplication of a one-hot encoded vector with a matrix returns the row of the matrix corresponding the index of the \"on\" input unit.\n",
    "\n",
    "![lookup](assets/lookup_matrix.png)\n",
    "\n",
    "Instead of doing the matrix multiplication, we use the weight matrix as a lookup table. We encode the words as integers, for example \"heart\" is encoded as 958, \"mind\" as 18094. Then to get hidden layer values for \"heart\", you just take the 958th row of the embedding matrix. This process is called an **embedding lookup** and the number of hidden units is the **embedding dimension**.\n",
    "\n",
    "<img src='assets/tokenize_lookup.png' width=500>\n",
    " \n",
    "There is nothing magical going on here. The embedding lookup table is just a weight matrix. The embedding layer is just a hidden layer. The lookup is just a shortcut for the matrix multiplication. The lookup table is trained just like any weight matrix as well.\n",
    "\n",
    "Embeddings aren't only used for words of course. You can use them for any model where you have a massive number of classes. A particular type of model called **Word2Vec** uses the embedding layer to find vector representations of words that contain semantic meaning.\n",
    "\n"
   ]
  },
  {
   "cell_type": "markdown",
   "metadata": {},
   "source": [
    "## Word2Vec\n",
    "\n",
    "The word2vec algorithm finds much more efficient representations by finding vectors that represent the words. These vectors also contain semantic information about the words. Words that show up in similar contexts, such as \"black\", \"white\", and \"red\" will have vectors near each other. There are two architectures for implementing word2vec, CBOW (Continuous Bag-Of-Words) and Skip-gram.\n",
    "\n",
    "<img src=\"assets/word2vec_architectures.png\" width=\"500\">\n",
    "\n",
    "In this implementation, we'll be using the skip-gram architecture because it performs better than CBOW. Here, we pass in a word and try to predict the words surrounding it in the text. In this way, we can train the network to learn representations for words that show up in similar contexts.\n",
    "\n",
    "First up, importing packages."
   ]
  },
  {
   "cell_type": "code",
   "execution_count": 1,
   "metadata": {},
   "outputs": [],
   "source": [
    "import time\n",
    "\n",
    "import numpy as np\n",
    "import tensorflow as tf\n",
    "\n",
    "import utils"
   ]
  },
  {
   "cell_type": "markdown",
   "metadata": {},
   "source": [
    "Load the [text8 dataset](http://mattmahoney.net/dc/textdata.html), a file of cleaned up Wikipedia articles from Matt Mahoney. The next cell will download the data set to the `data` folder. Then you can extract it and delete the archive file to save storage space."
   ]
  },
  {
   "cell_type": "code",
   "execution_count": 2,
   "metadata": {},
   "outputs": [
    {
     "name": "stderr",
     "output_type": "stream",
     "text": [
      "Text8 Dataset: 31.4MB [00:17, 1.78MB/s]                            \n"
     ]
    }
   ],
   "source": [
    "from urllib.request import urlretrieve\n",
    "from os.path import isfile, isdir\n",
    "from tqdm import tqdm\n",
    "import zipfile\n",
    "\n",
    "dataset_folder_path = 'data'\n",
    "dataset_filename = 'text8.zip'\n",
    "dataset_name = 'Text8 Dataset'\n",
    "\n",
    "class DLProgress(tqdm):\n",
    "    last_block = 0\n",
    "\n",
    "    def hook(self, block_num=1, block_size=1, total_size=None):\n",
    "        self.total = total_size\n",
    "        self.update((block_num - self.last_block) * block_size)\n",
    "        self.last_block = block_num\n",
    "\n",
    "if not isfile(dataset_filename):\n",
    "    with DLProgress(unit='B', unit_scale=True, miniters=1, desc=dataset_name) as pbar:\n",
    "        urlretrieve(\n",
    "            'http://mattmahoney.net/dc/text8.zip',\n",
    "            dataset_filename,\n",
    "            pbar.hook)\n",
    "\n",
    "if not isdir(dataset_folder_path):\n",
    "    with zipfile.ZipFile(dataset_filename) as zip_ref:\n",
    "        zip_ref.extractall(dataset_folder_path)\n",
    "        \n",
    "with open('data/text8') as f:\n",
    "    text = f.read()"
   ]
  },
  {
   "cell_type": "markdown",
   "metadata": {},
   "source": [
    "## Preprocessing\n",
    "\n",
    "Here I'm fixing up the text to make training easier. This comes from the `utils` module I wrote. The `preprocess` function coverts any punctuation into tokens, so a period is changed to ` <PERIOD> `. In this data set, there aren't any periods, but it will help in other NLP problems. I'm also removing all words that show up five or fewer times in the dataset. This will greatly reduce issues due to noise in the data and improve the quality of the vector representations. If you want to write your own functions for this stuff, go for it."
   ]
  },
  {
   "cell_type": "code",
   "execution_count": 3,
   "metadata": {},
   "outputs": [
    {
     "name": "stdout",
     "output_type": "stream",
     "text": [
      "['anarchism', 'originated', 'as', 'a', 'term', 'of', 'abuse', 'first', 'used', 'against', 'early', 'working', 'class', 'radicals', 'including', 'the', 'diggers', 'of', 'the', 'english', 'revolution', 'and', 'the', 'sans', 'culottes', 'of', 'the', 'french', 'revolution', 'whilst']\n"
     ]
    }
   ],
   "source": [
    "words = utils.preprocess(text)\n",
    "print(words[:30])"
   ]
  },
  {
   "cell_type": "code",
   "execution_count": 4,
   "metadata": {},
   "outputs": [
    {
     "name": "stdout",
     "output_type": "stream",
     "text": [
      "Total words: 16680599\n",
      "Unique words: 63641\n"
     ]
    }
   ],
   "source": [
    "print(\"Total words: {}\".format(len(words)))\n",
    "print(\"Unique words: {}\".format(len(set(words))))"
   ]
  },
  {
   "cell_type": "markdown",
   "metadata": {},
   "source": [
    "And here I'm creating dictionaries to convert words to integers and backwards, integers to words. The integers are assigned in descending frequency order, so the most frequent word (\"the\") is given the integer 0 and the next most frequent is 1 and so on. The words are converted to integers and stored in the list `int_words`."
   ]
  },
  {
   "cell_type": "code",
   "execution_count": 5,
   "metadata": {},
   "outputs": [],
   "source": [
    "vocab_to_int, int_to_vocab = utils.create_lookup_tables(words)\n",
    "int_words = [vocab_to_int[word] for word in words]"
   ]
  },
  {
   "cell_type": "markdown",
   "metadata": {},
   "source": [
    "## Subsampling\n",
    "\n",
    "Words that show up often such as \"the\", \"of\", and \"for\" don't provide much context to the nearby words. If we discard some of them, we can remove some of the noise from our data and in return get faster training and better representations. This process is called subsampling by Mikolov. For each word $w_i$ in the training set, we'll discard it with probability given by \n",
    "\n",
    "$$ P(w_i) = 1 - \\sqrt{\\frac{t}{f(w_i)}} $$\n",
    "\n",
    "where $t$ is a threshold parameter and $f(w_i)$ is the frequency of word $w_i$ in the total dataset.\n",
    "\n",
    "I'm going to leave this up to you as an exercise. This is more of a programming challenge, than about deep learning specifically. But, being able to prepare your data for your network is an important skill to have. Check out my solution to see how I did it.\n",
    "\n",
    "> **Exercise:** Implement subsampling for the words in `int_words`. That is, go through `int_words` and discard each word given the probablility $P(w_i)$ shown above. Note that $P(w_i)$ is the probability that a word is discarded. Assign the subsampled data to `train_words`."
   ]
  },
  {
   "cell_type": "code",
   "execution_count": 8,
   "metadata": {},
   "outputs": [],
   "source": [
    "## Your code here\n",
    "from collections import Counter\n",
    "import random\n",
    "\n",
    "threshold = 1e-5\n",
    "word_counts = Counter(int_words)\n",
    "total_count = len(int_words)\n",
    "freqs = {word:count/total_count for word,count in word_counts.items()}\n",
    "p_drop = {word: 1- np.sqrt(threshold/freqs[word]) for word in word_counts}\n",
    "train_words = [word for word in int_words if p_drop[word]<random.random()] # The final subsampled word list"
   ]
  },
  {
   "cell_type": "markdown",
   "metadata": {},
   "source": [
    "## Making batches"
   ]
  },
  {
   "cell_type": "markdown",
   "metadata": {},
   "source": [
    "Now that our data is in good shape, we need to get it into the proper form to pass it into our network. With the skip-gram architecture, for each word in the text, we want to grab all the words in a window around that word, with size $C$. \n",
    "\n",
    "From [Mikolov et al.](https://arxiv.org/pdf/1301.3781.pdf): \n",
    "\n",
    "\"Since the more distant words are usually less related to the current word than those close to it, we give less weight to the distant words by sampling less from those words in our training examples... If we choose $C = 5$, for each training word we will select randomly a number $R$ in range $< 1; C >$, and then use $R$ words from history and $R$ words from the future of the current word as correct labels.\"\n",
    "\n",
    "> **Exercise:** Implement a function `get_target` that receives a list of words, an index, and a window size, then returns a list of words in the window around the index. Make sure to use the algorithm described above, where you choose a random number of words from the window."
   ]
  },
  {
   "cell_type": "code",
   "execution_count": 9,
   "metadata": {},
   "outputs": [],
   "source": [
    "def get_target(words, idx, window_size=5):\n",
    "    ''' Get a list of words in a window around an index. '''\n",
    "    \n",
    "    # Your code here\n",
    "    R = np.random.randint(1, window_size+1)\n",
    "    start = idx - R if (idx - R) > 0 else 0\n",
    "    stop = idx + R\n",
    "    target_words = set(words[start:idx] + words[idx+1:stop+1])\n",
    "    \n",
    "    return list(target_words)"
   ]
  },
  {
   "cell_type": "markdown",
   "metadata": {},
   "source": [
    "Here's a function that returns batches for our network. The idea is that it grabs `batch_size` words from a words list. Then for each of those words, it gets the target words in the window. I haven't found a way to pass in a random number of target words and get it to work with the architecture, so I make one row per input-target pair. This is a generator function by the way, helps save memory."
   ]
  },
  {
   "cell_type": "code",
   "execution_count": 10,
   "metadata": {},
   "outputs": [],
   "source": [
    "def get_batches(words, batch_size, window_size=5):\n",
    "    ''' Create a generator of word batches as a tuple (inputs, targets) '''\n",
    "    \n",
    "    n_batches = len(words)//batch_size\n",
    "    \n",
    "    # only full batches\n",
    "    words = words[:n_batches*batch_size]\n",
    "    \n",
    "    for idx in range(0, len(words), batch_size):\n",
    "        x, y = [], []\n",
    "        batch = words[idx:idx+batch_size]\n",
    "        for ii in range(len(batch)):\n",
    "            batch_x = batch[ii]\n",
    "            batch_y = get_target(batch, ii, window_size)\n",
    "            y.extend(batch_y)\n",
    "            x.extend([batch_x]*len(batch_y))\n",
    "        yield x, y\n",
    "    "
   ]
  },
  {
   "cell_type": "markdown",
   "metadata": {},
   "source": [
    "## Building the graph\n",
    "\n",
    "From [Chris McCormick's blog](http://mccormickml.com/2016/04/19/word2vec-tutorial-the-skip-gram-model/), we can see the general structure of our network.\n",
    "![embedding_network](./assets/skip_gram_net_arch.png)\n",
    "\n",
    "The input words are passed in as integers. This will go into a hidden layer of linear units, then into a softmax layer. We'll use the softmax layer to make a prediction like normal.\n",
    "\n",
    "The idea here is to train the hidden layer weight matrix to find efficient representations for our words. We can discard the softmax layer becuase we don't really care about making predictions with this network. We just want the embedding matrix so we can use it in other networks we build from the dataset.\n",
    "\n",
    "I'm going to have you build the graph in stages now. First off, creating the `inputs` and `labels` placeholders like normal.\n",
    "\n",
    "> **Exercise:** Assign `inputs` and `labels` using `tf.placeholder`. We're going to be passing in integers, so set the data types to `tf.int32`. The batches we're passing in will have varying sizes, so set the batch sizes to [`None`]. To make things work later, you'll need to set the second dimension of `labels` to `None` or `1`."
   ]
  },
  {
   "cell_type": "code",
   "execution_count": 11,
   "metadata": {},
   "outputs": [],
   "source": [
    "train_graph = tf.Graph()\n",
    "with train_graph.as_default():\n",
    "    inputs = tf.placeholder(tf.int32, [None], name='inputs')\n",
    "    labels = tf.placeholder(tf.int32, [None, None], name='labels')"
   ]
  },
  {
   "cell_type": "markdown",
   "metadata": {},
   "source": [
    "## Embedding\n",
    "\n"
   ]
  },
  {
   "cell_type": "markdown",
   "metadata": {
    "collapsed": true
   },
   "source": [
    "The embedding matrix has a size of the number of words by the number of units in the hidden layer. So, if you have 10,000 words and 300 hidden units, the matrix will have size $10,000 \\times 300$. Remember that we're using tokenized data for our inputs, usually as integers, where the number of tokens is the number of words in our vocabulary.\n",
    "\n",
    "\n",
    "> **Exercise:** Tensorflow provides a convenient function [`tf.nn.embedding_lookup`](https://www.tensorflow.org/api_docs/python/tf/nn/embedding_lookup) that does this lookup for us. You pass in the embedding matrix and a tensor of integers, then it returns rows in the matrix corresponding to those integers. Below, set the number of embedding features you'll use (200 is a good start), create the embedding matrix variable, and use `tf.nn.embedding_lookup` to get the embedding tensors. For the embedding matrix, I suggest you initialize it with a uniform random numbers between -1 and 1 using [tf.random_uniform](https://www.tensorflow.org/api_docs/python/tf/random_uniform)."
   ]
  },
  {
   "cell_type": "code",
   "execution_count": 12,
   "metadata": {},
   "outputs": [],
   "source": [
    "n_vocab = len(int_to_vocab)\n",
    "n_embedding = 200 # Number of embedding features \n",
    "with train_graph.as_default():\n",
    "    embedding = tf.Variable(tf.random_uniform((n_vocab, n_embedding)) )# create embedding weight matrix here\n",
    "    embed = tf.nn.embedding_lookup(embedding, inputs) # use tf.nn.embedding_lookup to get the hidden layer output"
   ]
  },
  {
   "cell_type": "markdown",
   "metadata": {},
   "source": [
    "## Negative sampling\n",
    "\n"
   ]
  },
  {
   "cell_type": "markdown",
   "metadata": {},
   "source": [
    "For every example we give the network, we train it using the output from the softmax layer. That means for each input, we're making very small changes to millions of weights even though we only have one true example. This makes training the network very inefficient. We can approximate the loss from the softmax layer by only updating a small subset of all the weights at once. We'll update the weights for the correct label, but only a small number of incorrect labels. This is called [\"negative sampling\"](http://papers.nips.cc/paper/5021-distributed-representations-of-words-and-phrases-and-their-compositionality.pdf). Tensorflow has a convenient function to do this, [`tf.nn.sampled_softmax_loss`](https://www.tensorflow.org/api_docs/python/tf/nn/sampled_softmax_loss).\n",
    "\n",
    "> **Exercise:** Below, create weights and biases for the softmax layer. Then, use [`tf.nn.sampled_softmax_loss`](https://www.tensorflow.org/api_docs/python/tf/nn/sampled_softmax_loss) to calculate the loss. Be sure to read the documentation to figure out how it works."
   ]
  },
  {
   "cell_type": "code",
   "execution_count": 13,
   "metadata": {},
   "outputs": [],
   "source": [
    "# Number of negative labels to sample\n",
    "n_sampled = 100\n",
    "with train_graph.as_default():\n",
    "    softmax_w = tf.Variable(tf.truncated_normal((n_vocab, n_embedding), stddev = 0.1)) # create softmax weight matrix here\n",
    "    softmax_b = tf.Variable(tf.zeros(n_vocab)) # create softmax biases here\n",
    "    \n",
    "    # Calculate the loss using negative sampling\n",
    "    loss = tf.nn.sampled_softmax_loss(softmax_w, softmax_b, labels, embed, n_sampled, n_vocab) \n",
    "    \n",
    "    cost = tf.reduce_mean(loss)\n",
    "    optimizer = tf.train.AdamOptimizer().minimize(cost)"
   ]
  },
  {
   "cell_type": "markdown",
   "metadata": {},
   "source": [
    "## Validation\n",
    "\n",
    "This code is from Thushan Ganegedara's implementation. Here we're going to choose a few common words and few uncommon words. Then, we'll print out the closest words to them. It's a nice way to check that our embedding table is grouping together words with similar semantic meanings."
   ]
  },
  {
   "cell_type": "code",
   "execution_count": 14,
   "metadata": {},
   "outputs": [],
   "source": [
    "with train_graph.as_default():\n",
    "    ## From Thushan Ganegedara's implementation\n",
    "    valid_size = 16 # Random set of words to evaluate similarity on.\n",
    "    valid_window = 100\n",
    "    # pick 8 samples from (0,100) and (1000,1100) each ranges. lower id implies more frequent \n",
    "    valid_examples = np.array(random.sample(range(valid_window), valid_size//2))\n",
    "    valid_examples = np.append(valid_examples, \n",
    "                               random.sample(range(1000,1000+valid_window), valid_size//2))\n",
    "\n",
    "    valid_dataset = tf.constant(valid_examples, dtype=tf.int32)\n",
    "    \n",
    "    # We use the cosine distance:\n",
    "    norm = tf.sqrt(tf.reduce_sum(tf.square(embedding), 1, keep_dims=True))\n",
    "    normalized_embedding = embedding / norm\n",
    "    valid_embedding = tf.nn.embedding_lookup(normalized_embedding, valid_dataset)\n",
    "    similarity = tf.matmul(valid_embedding, tf.transpose(normalized_embedding))"
   ]
  },
  {
   "cell_type": "code",
   "execution_count": 15,
   "metadata": {},
   "outputs": [],
   "source": [
    "# If the checkpoints directory doesn't exist:\n",
    "!mkdir checkpoints"
   ]
  },
  {
   "cell_type": "markdown",
   "metadata": {},
   "source": [
    "## Training\n",
    "\n",
    "Below is the code to train the network. Every 100 batches it reports the training loss. Every 1000 batches, it'll print out the validation words."
   ]
  },
  {
   "cell_type": "code",
   "execution_count": null,
   "metadata": {},
   "outputs": [
    {
     "name": "stdout",
     "output_type": "stream",
     "text": [
      "Epoch 1/10 Iteration: 100 Avg. Training loss: 5.2216 0.2753 sec/batch\n",
      "Epoch 1/10 Iteration: 200 Avg. Training loss: 5.0229 0.2629 sec/batch\n",
      "Epoch 1/10 Iteration: 300 Avg. Training loss: 5.2672 0.2540 sec/batch\n",
      "Epoch 1/10 Iteration: 400 Avg. Training loss: 5.7740 0.2541 sec/batch\n",
      "Epoch 1/10 Iteration: 500 Avg. Training loss: 6.1037 0.2601 sec/batch\n",
      "Epoch 1/10 Iteration: 600 Avg. Training loss: 6.3605 0.2578 sec/batch\n",
      "Epoch 1/10 Iteration: 700 Avg. Training loss: 6.6111 0.2569 sec/batch\n",
      "Epoch 1/10 Iteration: 800 Avg. Training loss: 6.7836 0.2587 sec/batch\n",
      "Epoch 1/10 Iteration: 900 Avg. Training loss: 6.6388 0.2473 sec/batch\n",
      "Epoch 1/10 Iteration: 1000 Avg. Training loss: 6.7283 0.2409 sec/batch\n",
      "Nearest to state: medicated, diem, barrichello, homeward, garnet, zeke, garciaparra, monorail,\n",
      "Nearest to zero: ote, yom, canopies, assented, swings, zeroth, fragment, crankshaft,\n",
      "Nearest to b: nderzeit, gamemasters, blisters, bucaram, urantia, hellbender, alienated, campana,\n",
      "Nearest to after: arnaz, statutory, interrogated, nguni, sicilies, vibrating, gassan, clearest,\n",
      "Nearest to which: unabomber, imitating, conjunctive, nicole, lorries, inline, zine, antikythera,\n",
      "Nearest to there: wissenschaften, bu, proboscis, jets, ino, recognizably, monorail, pierzynski,\n",
      "Nearest to it: koresh, sheave, vagueness, arabesque, landholders, sepsis, buzzards, abilities,\n",
      "Nearest to no: brindisi, fredrick, skilfully, mihai, stereoisomers, kluge, bmod, notability,\n",
      "Nearest to magazine: polyandry, farmington, rsted, fedex, contras, cottonwood, ios, technische,\n",
      "Nearest to hit: mcnelly, contributor, camshaft, rsten, baselines, dbmss, cleef, janszoon,\n",
      "Nearest to channel: deepening, alston, dak, ewen, kenilworth, entendre, ucs, nordstr,\n",
      "Nearest to dr: interlisp, westphalian, anta, buddhas, cogent, cobwebs, reckless, chiropractic,\n",
      "Nearest to square: jibril, bums, tumult, deirdre, wgn, segmentata, cask, joanie,\n",
      "Nearest to accepted: orff, monadic, minding, indy, mycological, mckenna, suppressant, alston,\n",
      "Nearest to writers: orford, gl, ssi, wintertime, unrealistic, treadmill, psychosomatic, schreiber,\n",
      "Nearest to stage: decarlo, aeolus, cakes, laoco, milgrom, albornoz, porous, appropriations,\n",
      "Epoch 1/10 Iteration: 1100 Avg. Training loss: 6.6939 0.2525 sec/batch\n",
      "Epoch 1/10 Iteration: 1200 Avg. Training loss: 6.7420 0.2424 sec/batch\n",
      "Epoch 1/10 Iteration: 1300 Avg. Training loss: 6.8009 0.2404 sec/batch\n",
      "Epoch 1/10 Iteration: 1400 Avg. Training loss: 6.7754 0.2393 sec/batch\n",
      "Epoch 1/10 Iteration: 1500 Avg. Training loss: 6.8453 0.2399 sec/batch\n",
      "Epoch 1/10 Iteration: 1600 Avg. Training loss: 6.6200 0.2425 sec/batch\n",
      "Epoch 1/10 Iteration: 1700 Avg. Training loss: 6.6983 0.2408 sec/batch\n",
      "Epoch 1/10 Iteration: 1800 Avg. Training loss: 6.6984 0.2397 sec/batch\n",
      "Epoch 1/10 Iteration: 1900 Avg. Training loss: 6.7037 0.2407 sec/batch\n",
      "Epoch 1/10 Iteration: 2000 Avg. Training loss: 6.5400 0.2403 sec/batch\n",
      "Nearest to state: silents, medicated, homeward, barrichello, viola, diem, zeke, dsn,\n",
      "Nearest to zero: ote, yom, swings, crankshaft, canopies, assented, filthy, isomorphic,\n",
      "Nearest to b: nderzeit, gamemasters, toying, urantia, bucaram, occultation, blisters, hellbender,\n",
      "Nearest to after: arnaz, statutory, nguni, vibrating, interrogated, clearest, labourer, arenas,\n",
      "Nearest to which: unabomber, imitating, antikythera, lorries, conjunctive, gala, nicole, lb,\n",
      "Nearest to there: jets, bu, wissenschaften, proboscis, ino, malleable, ermey, idb,\n",
      "Nearest to it: koresh, arabesque, sheave, vagueness, landholders, sepsis, serviced, divisors,\n",
      "Nearest to no: brindisi, fredrick, deteriorating, powered, dishwasher, skilfully, bmod, stereoisomers,\n",
      "Nearest to magazine: polyandry, ios, plaque, distributors, grades, cottonwood, piquet, shuffles,\n",
      "Nearest to hit: mcnelly, contributor, batak, bernadette, camshaft, bagpipes, rsten, janszoon,\n",
      "Nearest to channel: ewen, dak, alston, deepening, entendre, leuba, nordstr, kenilworth,\n",
      "Nearest to dr: deletion, uncanny, livonians, reckless, lxxviii, bouvines, expectation, bronchial,\n",
      "Nearest to square: tumult, jibril, bums, segmentata, tempus, echl, branes, fissure,\n",
      "Nearest to accepted: mycological, monadic, orff, communally, minding, indy, golems, mckenna,\n",
      "Nearest to writers: gl, orford, maximilian, cemented, ssi, treadmill, iwi, hangar,\n",
      "Nearest to stage: aeolus, decarlo, cakes, provost, hamm, hurting, laoco, meades,\n",
      "Epoch 1/10 Iteration: 2100 Avg. Training loss: 6.5123 0.2446 sec/batch\n",
      "Epoch 1/10 Iteration: 2200 Avg. Training loss: 6.3744 0.2411 sec/batch\n",
      "Epoch 1/10 Iteration: 2300 Avg. Training loss: 6.5198 0.2414 sec/batch\n",
      "Epoch 1/10 Iteration: 2400 Avg. Training loss: 6.3964 0.2410 sec/batch\n",
      "Epoch 1/10 Iteration: 2500 Avg. Training loss: 6.4192 0.2409 sec/batch\n",
      "Epoch 1/10 Iteration: 2600 Avg. Training loss: 6.2361 0.2419 sec/batch\n",
      "Epoch 1/10 Iteration: 2700 Avg. Training loss: 6.3110 0.2432 sec/batch\n",
      "Epoch 1/10 Iteration: 2800 Avg. Training loss: 6.2138 0.2414 sec/batch\n",
      "Epoch 1/10 Iteration: 2900 Avg. Training loss: 6.2393 0.2414 sec/batch\n",
      "Epoch 1/10 Iteration: 3000 Avg. Training loss: 6.2123 0.2439 sec/batch\n",
      "Nearest to state: barrichello, silents, medicated, homeward, viola, minefield, diem, zeke,\n",
      "Nearest to zero: ote, yom, swings, crankshaft, zhuyin, filthy, canopies, sorceress,\n",
      "Nearest to b: nderzeit, gamemasters, toying, alienated, bucaram, occultation, classicists, urantia,\n",
      "Nearest to after: arnaz, statutory, clearest, labourer, nguni, vibrating, gisela, allude,\n",
      "Nearest to which: unabomber, imitating, antikythera, gala, conjunctive, lorries, nicole, veil,\n",
      "Nearest to there: bu, wissenschaften, jets, proboscis, inborn, deckers, ino, ermey,\n",
      "Nearest to it: sheave, koresh, arabesque, buzzards, rte, offensively, vagueness, blaze,\n",
      "Nearest to no: brindisi, deteriorating, skilfully, fredrick, dishwasher, discharging, taraki, epidemiology,\n",
      "Nearest to magazine: ios, polyandry, grades, plaque, geographia, distributors, shuffles, mps,\n",
      "Nearest to hit: mcnelly, contributor, batak, janszoon, bagpipes, opium, camshaft, dismal,\n",
      "Nearest to channel: dak, entendre, ewen, alston, deepening, coop, corbat, leuba,\n",
      "Nearest to dr: deletion, expectation, uncanny, reckless, livonians, inflammation, lxxviii, denise,\n",
      "Nearest to square: tumult, caddies, gravitated, segmentata, fissure, echl, tempus, combi,\n",
      "Nearest to accepted: mycological, monadic, communally, sahara, orff, indy, uphold, golems,\n",
      "Nearest to writers: gl, orford, cemented, maximilian, compiling, ssi, hangar, unsecured,\n",
      "Nearest to stage: aeolus, decarlo, cakes, steelers, provost, hamm, hurting, opposites,\n",
      "Epoch 1/10 Iteration: 3100 Avg. Training loss: 6.2804 0.2446 sec/batch\n",
      "Epoch 1/10 Iteration: 3200 Avg. Training loss: 6.0913 0.2410 sec/batch\n",
      "Epoch 1/10 Iteration: 3300 Avg. Training loss: 5.9017 0.2421 sec/batch\n",
      "Epoch 1/10 Iteration: 3400 Avg. Training loss: 5.9074 0.2410 sec/batch\n",
      "Epoch 1/10 Iteration: 3500 Avg. Training loss: 6.0103 0.2426 sec/batch\n",
      "Epoch 1/10 Iteration: 3600 Avg. Training loss: 6.1148 0.2426 sec/batch\n",
      "Epoch 1/10 Iteration: 3700 Avg. Training loss: 5.9270 0.2431 sec/batch\n",
      "Epoch 1/10 Iteration: 3800 Avg. Training loss: 6.1868 42.1955 sec/batch\n",
      "Epoch 1/10 Iteration: 3900 Avg. Training loss: 6.0112 0.2564 sec/batch\n",
      "Epoch 1/10 Iteration: 4000 Avg. Training loss: 5.9228 0.2459 sec/batch\n",
      "Nearest to state: homeward, barrichello, silents, viola, medicated, peaches, minefield, oul,\n",
      "Nearest to zero: one, two, crankshaft, six, swings, ote, sorceress, zhuyin,\n",
      "Nearest to b: nderzeit, gamemasters, rack, toying, bucaram, magnon, occultation, iowa,\n",
      "Nearest to after: arnaz, statutory, labourer, nguni, clearest, gisela, allude, presley,\n",
      "Nearest to which: unabomber, conjunctive, antikythera, lorries, jeweled, paean, imitating, glycosylation,\n",
      "Nearest to there: wissenschaften, bu, deckers, proboscis, inborn, lancastrian, idb, jets,\n",
      "Nearest to it: sheave, koresh, buzzards, arabesque, offensively, rte, divisors, nubians,\n",
      "Nearest to no: brindisi, deteriorating, skilfully, fredrick, epidemiology, plantinga, breasts, dishwasher,\n",
      "Nearest to magazine: grades, ios, polyandry, geographia, luggage, plaque, distributors, shuffles,\n",
      "Nearest to hit: contributor, mcnelly, janszoon, opium, guilt, batak, dismal, byproduct,\n",
      "Nearest to channel: dak, ewen, entendre, alston, deepening, corbat, coop, nfs,\n",
      "Nearest to dr: deletion, expectation, uncanny, reckless, denise, livonians, vigilante, gcb,\n",
      "Nearest to square: caddies, gravitated, tumult, echl, tempus, segmentata, compromises, romantically,\n",
      "Nearest to accepted: mycological, monadic, communally, indy, irina, orff, uphold, sahara,\n",
      "Nearest to writers: gl, cemented, orford, maximilian, hangar, compiling, unsecured, kinsmen,\n",
      "Nearest to stage: aeolus, decarlo, provost, steelers, cakes, hurting, hamm, achille,\n"
     ]
    },
    {
     "name": "stdout",
     "output_type": "stream",
     "text": [
      "Epoch 1/10 Iteration: 4100 Avg. Training loss: 5.8700 0.2442 sec/batch\n",
      "Epoch 1/10 Iteration: 4200 Avg. Training loss: 5.6566 0.2428 sec/batch\n",
      "Epoch 1/10 Iteration: 4300 Avg. Training loss: 5.9799 0.2434 sec/batch\n",
      "Epoch 1/10 Iteration: 4400 Avg. Training loss: 5.6437 0.2428 sec/batch\n",
      "Epoch 1/10 Iteration: 4500 Avg. Training loss: 5.8418 0.2420 sec/batch\n",
      "Epoch 1/10 Iteration: 4600 Avg. Training loss: 5.8056 0.2422 sec/batch\n",
      "Epoch 2/10 Iteration: 4700 Avg. Training loss: 5.8421 0.1815 sec/batch\n",
      "Epoch 2/10 Iteration: 4800 Avg. Training loss: 5.7538 0.2426 sec/batch\n",
      "Epoch 2/10 Iteration: 4900 Avg. Training loss: 5.9231 0.2419 sec/batch\n",
      "Epoch 2/10 Iteration: 5000 Avg. Training loss: 5.7666 0.2425 sec/batch\n",
      "Nearest to state: homeward, peaches, barrichello, silents, minefield, viola, medicated, emphasising,\n",
      "Nearest to zero: one, two, six, five, four, nine, seven, three,\n",
      "Nearest to b: d, rack, gamemasters, scilly, nderzeit, eight, iowa, zero,\n",
      "Nearest to after: arnaz, labourer, nguni, gisela, clearest, allude, goodhue, unholy,\n",
      "Nearest to which: jeweled, conjunctive, adjunct, antikythera, lorries, exempting, glycosylation, unabomber,\n",
      "Nearest to there: idb, lancastrian, deckers, bu, inborn, proboscis, wissenschaften, resumption,\n",
      "Nearest to it: sheave, buzzards, koresh, ammi, offensively, rte, nubians, narbonensis,\n",
      "Nearest to no: of, brindisi, the, skilfully, breasts, deteriorating, fredrick, epidemiology,\n",
      "Nearest to magazine: polyandry, geographia, ios, luggage, retrace, shuffles, romanization, cottonwood,\n",
      "Nearest to hit: contributor, mcnelly, dismal, camshaft, guilt, janszoon, bernadette, byproduct,\n",
      "Nearest to channel: entendre, dak, alston, ewen, deepening, coop, corbat, combs,\n",
      "Nearest to dr: deletion, reckless, expectation, uncanny, gcb, inflammation, endowment, denise,\n",
      "Nearest to square: caddies, echl, tempus, engraver, gravitated, tumult, chambre, segmentata,\n",
      "Nearest to accepted: mycological, monadic, indy, communally, irina, golems, orff, uphold,\n",
      "Nearest to writers: gl, cemented, compiling, orford, hangar, kinsmen, unsecured, slowest,\n",
      "Nearest to stage: aeolus, provost, decarlo, sperry, opposites, achille, steelers, bova,\n",
      "Epoch 2/10 Iteration: 5100 Avg. Training loss: 5.8007 0.2449 sec/batch\n",
      "Epoch 2/10 Iteration: 5200 Avg. Training loss: 5.6759 0.2436 sec/batch\n",
      "Epoch 2/10 Iteration: 5300 Avg. Training loss: 5.6551 0.2427 sec/batch\n",
      "Epoch 2/10 Iteration: 5400 Avg. Training loss: 5.6511 0.2405 sec/batch\n",
      "Epoch 2/10 Iteration: 5500 Avg. Training loss: 5.5633 0.2400 sec/batch\n",
      "Epoch 2/10 Iteration: 5600 Avg. Training loss: 5.5392 0.2397 sec/batch\n",
      "Epoch 2/10 Iteration: 5700 Avg. Training loss: 5.5747 0.2411 sec/batch\n",
      "Epoch 2/10 Iteration: 5800 Avg. Training loss: 5.4852 0.2403 sec/batch\n",
      "Epoch 2/10 Iteration: 5900 Avg. Training loss: 5.3855 0.2409 sec/batch\n",
      "Epoch 2/10 Iteration: 6000 Avg. Training loss: 5.4113 0.2402 sec/batch\n",
      "Nearest to state: homeward, peaches, minefield, silents, emphasising, barrichello, supermanica, medicated,\n",
      "Nearest to zero: one, two, six, five, four, nine, seven, eight,\n",
      "Nearest to b: eight, d, five, zero, three, seven, four, six,\n",
      "Nearest to after: arnaz, labourer, of, nguni, a, the, gisela, goodhue,\n",
      "Nearest to which: of, a, an, the, jeweled, to, bayard, conjunctive,\n",
      "Nearest to there: the, however, when, as, to, on, for, of,\n",
      "Nearest to it: to, a, of, are, be, the, when, that,\n",
      "Nearest to no: of, the, a, and, was, then, an, that,\n",
      "Nearest to magazine: geographia, polyandry, retrace, shuffles, ios, cottonwood, decapitate, ganga,\n",
      "Nearest to hit: contributor, bagpipes, bernadette, camshaft, economic, janszoon, pollinators, mcnelly,\n",
      "Nearest to channel: entendre, dak, alston, ewen, combs, milliseconds, corbat, leuba,\n",
      "Nearest to dr: deletion, reckless, expectation, gcb, uncanny, inflammation, livonians, sheol,\n",
      "Nearest to square: caddies, echl, tempus, gravitated, chambre, sniff, segmentata, engraver,\n",
      "Nearest to accepted: mycological, indy, communally, irina, monadic, minding, golems, orff,\n",
      "Nearest to writers: gl, kinsmen, compiling, hangar, orford, schreiber, slowest, unrealistic,\n",
      "Nearest to stage: aeolus, provost, achille, sperry, decarlo, bova, hurting, aromatics,\n",
      "Epoch 2/10 Iteration: 6100 Avg. Training loss: 5.5069 0.2433 sec/batch\n",
      "Epoch 2/10 Iteration: 6200 Avg. Training loss: 5.5391 0.2412 sec/batch\n",
      "Epoch 2/10 Iteration: 6300 Avg. Training loss: 5.4643 0.2401 sec/batch\n",
      "Epoch 2/10 Iteration: 6400 Avg. Training loss: 5.4132 0.2420 sec/batch\n",
      "Epoch 2/10 Iteration: 6500 Avg. Training loss: 5.4230 0.2426 sec/batch\n",
      "Epoch 2/10 Iteration: 6600 Avg. Training loss: 5.3467 11.1916 sec/batch\n",
      "Epoch 2/10 Iteration: 6700 Avg. Training loss: 5.2928 0.2634 sec/batch\n",
      "Epoch 2/10 Iteration: 6800 Avg. Training loss: 5.3657 0.2490 sec/batch\n",
      "Epoch 2/10 Iteration: 6900 Avg. Training loss: 5.2487 0.2577 sec/batch\n",
      "Epoch 2/10 Iteration: 7000 Avg. Training loss: 5.1942 0.2539 sec/batch\n",
      "Nearest to state: the, army, supplied, in, of, by, mass, peaches,\n",
      "Nearest to zero: one, two, six, four, nine, five, seven, eight,\n",
      "Nearest to b: eight, d, seven, five, zero, three, one, four,\n",
      "Nearest to after: of, the, s, a, arnaz, has, on, it,\n",
      "Nearest to which: of, a, an, to, the, that, and, is,\n",
      "Nearest to there: the, as, however, to, of, when, on, for,\n",
      "Nearest to it: to, a, be, of, are, that, such, the,\n",
      "Nearest to no: of, the, a, and, then, was, an, which,\n",
      "Nearest to magazine: shuffles, retrace, decapitate, ios, geographia, historiographical, cottonwood, polyandry,\n",
      "Nearest to hit: economic, contributor, bagpipes, pollinators, janszoon, bernadette, camshaft, band,\n",
      "Nearest to channel: entendre, dak, alston, corbat, ewen, milliseconds, combs, nfs,\n",
      "Nearest to dr: deletion, reckless, oolong, livonians, ollie, illini, silesian, notational,\n",
      "Nearest to square: caddies, echl, tempus, gravitated, rabindranath, dreamland, sniff, chambre,\n",
      "Nearest to accepted: to, mycological, it, for, irina, communally, more, minding,\n",
      "Nearest to writers: talk, kinsmen, bulgarians, aimee, hangar, leonov, ontologies, schreiber,\n",
      "Nearest to stage: aeolus, provost, death, achille, aromatics, bova, decarlo, dmu,\n",
      "Epoch 2/10 Iteration: 7100 Avg. Training loss: 5.4632 0.2588 sec/batch\n",
      "Epoch 2/10 Iteration: 7200 Avg. Training loss: 5.2677 0.2470 sec/batch\n",
      "Epoch 2/10 Iteration: 7300 Avg. Training loss: 5.1526 0.2460 sec/batch\n",
      "Epoch 2/10 Iteration: 7400 Avg. Training loss: 5.2452 0.2441 sec/batch\n",
      "Epoch 2/10 Iteration: 7500 Avg. Training loss: 5.2956 0.2445 sec/batch\n",
      "Epoch 2/10 Iteration: 7600 Avg. Training loss: 5.1614 0.2452 sec/batch\n",
      "Epoch 2/10 Iteration: 7700 Avg. Training loss: 5.2739 0.2450 sec/batch\n",
      "Epoch 2/10 Iteration: 7800 Avg. Training loss: 5.2501 0.2439 sec/batch\n",
      "Epoch 2/10 Iteration: 7900 Avg. Training loss: 5.0561 0.2442 sec/batch\n",
      "Epoch 2/10 Iteration: 8000 Avg. Training loss: 5.1622 0.2436 sec/batch\n",
      "Nearest to state: the, of, army, in, by, federal, and, official,\n",
      "Nearest to zero: one, two, six, five, four, nine, seven, three,\n",
      "Nearest to b: d, seven, eight, three, five, one, nine, four,\n",
      "Nearest to after: s, of, the, put, produced, arnaz, activities, has,\n",
      "Nearest to which: of, a, an, that, the, it, to, and,\n",
      "Nearest to there: the, however, to, when, as, of, it, not,\n",
      "Nearest to it: to, be, a, that, of, such, are, the,\n",
      "Nearest to no: of, the, then, stated, that, a, an, and,\n",
      "Nearest to magazine: retrace, historiographical, ios, shuffles, geographia, hrh, decapitate, cottonwood,\n",
      "Nearest to hit: economic, contributor, band, shortened, ended, the, pollinators, guilt,\n",
      "Nearest to channel: entendre, dak, milliseconds, corbat, alston, combs, ewen, nfs,\n",
      "Nearest to dr: october, one, deletion, reckless, four, ollie, maria, oolong,\n",
      "Nearest to square: two, caddies, seventh, echl, tempus, sniff, gravitated, rabindranath,\n",
      "Nearest to accepted: to, it, for, more, sold, become, being, other,\n",
      "Nearest to writers: bulgarians, talk, kinsmen, corresponding, about, hangar, aimee, schreiber,\n",
      "Nearest to stage: death, provost, aeolus, first, reform, before, seemed, aromatics,\n",
      "Epoch 2/10 Iteration: 8100 Avg. Training loss: 5.1118 0.2468 sec/batch\n",
      "Epoch 2/10 Iteration: 8200 Avg. Training loss: 5.1999 0.2465 sec/batch\n",
      "Epoch 2/10 Iteration: 8300 Avg. Training loss: 5.0313 0.2445 sec/batch\n",
      "Epoch 2/10 Iteration: 8400 Avg. Training loss: 5.2308 0.2444 sec/batch\n"
     ]
    },
    {
     "name": "stdout",
     "output_type": "stream",
     "text": [
      "Epoch 2/10 Iteration: 8500 Avg. Training loss: 5.1670 0.2427 sec/batch\n",
      "Epoch 2/10 Iteration: 8600 Avg. Training loss: 4.9983 0.2436 sec/batch\n",
      "Epoch 2/10 Iteration: 8700 Avg. Training loss: 5.1039 0.2423 sec/batch\n",
      "Epoch 2/10 Iteration: 8800 Avg. Training loss: 5.1069 0.2479 sec/batch\n",
      "Epoch 2/10 Iteration: 8900 Avg. Training loss: 5.0819 0.2471 sec/batch\n",
      "Epoch 2/10 Iteration: 9000 Avg. Training loss: 4.9685 0.2448 sec/batch\n",
      "Nearest to state: the, army, federal, appointed, of, government, in, supplied,\n",
      "Nearest to zero: two, one, five, four, six, three, nine, seven,\n",
      "Nearest to b: d, eight, writer, one, seven, nine, american, laureate,\n",
      "Nearest to after: s, of, the, was, put, victory, on, arnaz,\n",
      "Nearest to which: of, a, an, that, it, have, to, is,\n",
      "Nearest to there: however, the, when, to, as, not, formal, it,\n",
      "Nearest to it: be, that, a, to, are, such, or, more,\n",
      "Nearest to no: of, the, that, stated, an, then, a, if,\n",
      "Nearest to magazine: retrace, affiliated, historiographical, continued, web, cottonwood, poison, victor,\n",
      "Nearest to hit: contributor, economic, band, shortened, revived, ended, guilt, the,\n",
      "Nearest to channel: dak, entendre, corbat, milliseconds, alston, ewen, leiber, combs,\n",
      "Nearest to dr: october, one, maria, deletion, eight, richard, four, nine,\n",
      "Nearest to square: two, seventh, visited, neighboring, sets, south, compromises, skills,\n",
      "Nearest to accepted: to, it, more, become, secular, for, sold, happens,\n",
      "Nearest to writers: talk, about, injuring, british, maximilian, kinsmen, bulgarians, contributing,\n",
      "Nearest to stage: death, aeolus, first, provost, aromatics, milliseconds, bova, dmu,\n",
      "Epoch 2/10 Iteration: 9100 Avg. Training loss: 4.9937 0.2475 sec/batch\n",
      "Epoch 2/10 Iteration: 9200 Avg. Training loss: 5.0983 0.2457 sec/batch\n",
      "Epoch 3/10 Iteration: 9300 Avg. Training loss: 5.1199 0.1221 sec/batch\n",
      "Epoch 3/10 Iteration: 9400 Avg. Training loss: 4.9851 0.2437 sec/batch\n",
      "Epoch 3/10 Iteration: 9500 Avg. Training loss: 5.0537 0.2460 sec/batch\n",
      "Epoch 3/10 Iteration: 9600 Avg. Training loss: 4.9543 0.2457 sec/batch\n",
      "Epoch 3/10 Iteration: 9700 Avg. Training loss: 4.9845 58.2228 sec/batch\n",
      "Epoch 3/10 Iteration: 9800 Avg. Training loss: 4.9797 0.2609 sec/batch\n",
      "Epoch 3/10 Iteration: 9900 Avg. Training loss: 4.9694 0.2541 sec/batch\n",
      "Epoch 3/10 Iteration: 10000 Avg. Training loss: 4.9290 0.2560 sec/batch\n",
      "Nearest to state: federal, government, the, appointed, army, cooperation, of, parliament,\n",
      "Nearest to zero: two, four, one, five, three, six, nine, eight,\n",
      "Nearest to b: d, writer, laureate, actor, eight, one, politician, american,\n",
      "Nearest to after: s, victory, was, the, of, put, who, dismissed,\n",
      "Nearest to which: of, a, is, an, to, it, have, that,\n",
      "Nearest to there: however, the, as, formal, not, when, it, is,\n",
      "Nearest to it: be, to, that, such, a, or, are, not,\n",
      "Nearest to no: if, of, that, which, an, a, stated, it,\n",
      "Nearest to magazine: web, romanization, retrace, cottonwood, affiliated, shuffles, ios, ganga,\n",
      "Nearest to hit: contributor, band, guilt, hits, shortened, revived, ended, economic,\n",
      "Nearest to channel: dak, leiber, entendre, eggs, maximum, corbat, leuba, bic,\n",
      "Nearest to dr: october, one, eight, maria, richard, four, deletion, pope,\n",
      "Nearest to square: two, south, neighboring, area, visited, sets, miles, north,\n",
      "Nearest to accepted: to, it, secular, become, for, as, being, happens,\n",
      "Nearest to writers: british, injuring, maximilian, talk, leonov, about, ontologies, aimee,\n",
      "Nearest to stage: death, first, aeolus, provost, milliseconds, dmu, aromatics, sharers,\n",
      "Epoch 3/10 Iteration: 10100 Avg. Training loss: 5.0039 0.2690 sec/batch\n",
      "Epoch 3/10 Iteration: 10200 Avg. Training loss: 4.9307 0.2495 sec/batch\n",
      "Epoch 3/10 Iteration: 10300 Avg. Training loss: 4.9562 0.2565 sec/batch\n",
      "Epoch 3/10 Iteration: 10400 Avg. Training loss: 4.8906 0.2590 sec/batch\n",
      "Epoch 3/10 Iteration: 10500 Avg. Training loss: 4.7647 0.2598 sec/batch\n",
      "Epoch 3/10 Iteration: 10600 Avg. Training loss: 4.7889 0.2614 sec/batch\n",
      "Epoch 3/10 Iteration: 10700 Avg. Training loss: 4.9160 0.2608 sec/batch\n"
     ]
    }
   ],
   "source": [
    "epochs = 10\n",
    "batch_size = 1000\n",
    "window_size = 10\n",
    "\n",
    "with train_graph.as_default():\n",
    "    saver = tf.train.Saver()\n",
    "\n",
    "with tf.Session(graph=train_graph) as sess:\n",
    "    iteration = 1\n",
    "    loss = 0\n",
    "    sess.run(tf.global_variables_initializer())\n",
    "\n",
    "    for e in range(1, epochs+1):\n",
    "        batches = get_batches(train_words, batch_size, window_size)\n",
    "        start = time.time()\n",
    "        for x, y in batches:\n",
    "            \n",
    "            feed = {inputs: x,\n",
    "                    labels: np.array(y)[:, None]}\n",
    "            train_loss, _ = sess.run([cost, optimizer], feed_dict=feed)\n",
    "            \n",
    "            loss += train_loss\n",
    "            \n",
    "            if iteration % 100 == 0: \n",
    "                end = time.time()\n",
    "                print(\"Epoch {}/{}\".format(e, epochs),\n",
    "                      \"Iteration: {}\".format(iteration),\n",
    "                      \"Avg. Training loss: {:.4f}\".format(loss/100),\n",
    "                      \"{:.4f} sec/batch\".format((end-start)/100))\n",
    "                loss = 0\n",
    "                start = time.time()\n",
    "            \n",
    "            if iteration % 1000 == 0:\n",
    "                ## From Thushan Ganegedara's implementation\n",
    "                # note that this is expensive (~20% slowdown if computed every 500 steps)\n",
    "                sim = similarity.eval()\n",
    "                for i in range(valid_size):\n",
    "                    valid_word = int_to_vocab[valid_examples[i]]\n",
    "                    top_k = 8 # number of nearest neighbors\n",
    "                    nearest = (-sim[i, :]).argsort()[1:top_k+1]\n",
    "                    log = 'Nearest to %s:' % valid_word\n",
    "                    for k in range(top_k):\n",
    "                        close_word = int_to_vocab[nearest[k]]\n",
    "                        log = '%s %s,' % (log, close_word)\n",
    "                    print(log)\n",
    "            \n",
    "            iteration += 1\n",
    "    save_path = saver.save(sess, \"checkpoints/text8.ckpt\")\n",
    "    embed_mat = sess.run(normalized_embedding)"
   ]
  },
  {
   "cell_type": "markdown",
   "metadata": {},
   "source": [
    "Restore the trained network if you need to:"
   ]
  },
  {
   "cell_type": "code",
   "execution_count": null,
   "metadata": {
    "collapsed": true
   },
   "outputs": [],
   "source": [
    "with train_graph.as_default():\n",
    "    saver = tf.train.Saver()\n",
    "\n",
    "with tf.Session(graph=train_graph) as sess:\n",
    "    saver.restore(sess, tf.train.latest_checkpoint('checkpoints'))\n",
    "    embed_mat = sess.run(embedding)"
   ]
  },
  {
   "cell_type": "markdown",
   "metadata": {},
   "source": [
    "## Visualizing the word vectors\n",
    "\n",
    "Below we'll use T-SNE to visualize how our high-dimensional word vectors cluster together. T-SNE is used to project these vectors into two dimensions while preserving local stucture. Check out [this post from Christopher Olah](http://colah.github.io/posts/2014-10-Visualizing-MNIST/) to learn more about T-SNE and other ways to visualize high-dimensional data."
   ]
  },
  {
   "cell_type": "code",
   "execution_count": null,
   "metadata": {
    "collapsed": true
   },
   "outputs": [],
   "source": [
    "%matplotlib inline\n",
    "%config InlineBackend.figure_format = 'retina'\n",
    "\n",
    "import matplotlib.pyplot as plt\n",
    "from sklearn.manifold import TSNE"
   ]
  },
  {
   "cell_type": "code",
   "execution_count": null,
   "metadata": {
    "collapsed": true
   },
   "outputs": [],
   "source": [
    "viz_words = 500\n",
    "tsne = TSNE()\n",
    "embed_tsne = tsne.fit_transform(embed_mat[:viz_words, :])"
   ]
  },
  {
   "cell_type": "code",
   "execution_count": null,
   "metadata": {
    "collapsed": true
   },
   "outputs": [],
   "source": [
    "fig, ax = plt.subplots(figsize=(14, 14))\n",
    "for idx in range(viz_words):\n",
    "    plt.scatter(*embed_tsne[idx, :], color='steelblue')\n",
    "    plt.annotate(int_to_vocab[idx], (embed_tsne[idx, 0], embed_tsne[idx, 1]), alpha=0.7)"
   ]
  }
 ],
 "metadata": {
  "kernelspec": {
   "display_name": "Python 3",
   "language": "python",
   "name": "python3"
  },
  "language_info": {
   "codemirror_mode": {
    "name": "ipython",
    "version": 3
   },
   "file_extension": ".py",
   "mimetype": "text/x-python",
   "name": "python",
   "nbconvert_exporter": "python",
   "pygments_lexer": "ipython3",
   "version": "3.5.4"
  },
  "toc": {
   "nav_menu": {},
   "number_sections": true,
   "sideBar": true,
   "skip_h1_title": false,
   "toc_cell": false,
   "toc_position": {},
   "toc_section_display": "block",
   "toc_window_display": false
  }
 },
 "nbformat": 4,
 "nbformat_minor": 2
}
